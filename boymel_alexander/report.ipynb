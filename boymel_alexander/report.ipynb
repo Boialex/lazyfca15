{
 "cells": [
  {
   "cell_type": "markdown",
   "metadata": {},
   "source": [
    "# Отчет"
   ]
  },
  {
   "cell_type": "markdown",
   "metadata": {},
   "source": [
    "В качестве датасета был выбран tic-tac-toe (крестики-нолики). В датасете есть 9 фичей, на каждую клетку игрового поля. Каждая фича принимает значения \"x\", \"o\" - крестик/нолик в поле, либо \"b\" - отсутствие крестика и нолика. Таргет - победили ли крестики.\n",
    "\n",
    "В датасете 958 примеров игр: положительных - 626, отрицательных - 332.\n",
    "\n",
    "В качестве метрик используем Accuracy, Precision, Recall и несколько других, основная - Accuracy.\n",
    "\n",
    "Для оценки качества разбиваем датасет на 10 фолдов, учимся на всех кроме одного, на нем тестируемся. Итоговое качество метода - усреднение по 10 разбиениям."
   ]
  },
  {
   "cell_type": "markdown",
   "metadata": {},
   "source": [
    "В качестве референсных значений посмотрим на стандартные модели sklearn"
   ]
  },
  {
   "cell_type": "markdown",
   "metadata": {},
   "source": [
    "# Модели sklearn"
   ]
  },
  {
   "cell_type": "markdown",
   "metadata": {},
   "source": [
    "## Logistric Regression\n",
    "- True Positive: 60.5\n",
    "- True Negative: 33.1\n",
    "- False Positive: 1.4\n",
    "- False Negative: 0.0\n",
    "- True Positive Rate: 1.0\n",
    "- True Negative Rate: 0.9602958928326576\n",
    "- False Positive Rate: 0.02358527056702625\n",
    "- Negative Predictive Value: 1.0\n",
    "- False Discovery Rate: 0.022635416896346433\n",
    "- ***Accuracy: 0.9852631578947368***\n",
    "- Precision: 0.9773645831036536\n",
    "- Recall: 1.0\n",
    "\n",
    "## Decision Tree\n",
    "- True Positive: 57.8\n",
    "- True Negative: 31.8\n",
    "- False Positive: 2.7\n",
    "- False Negative: 2.7\n",
    "- True Positive Rate: 0.956149981694667\n",
    "- True Negative Rate: 0.9220655202640498\n",
    "- False Positive Rate: 0.04506972975904758\n",
    "- Negative Predictive Value: 0.9228632936814176\n",
    "- False Discovery Rate: 0.04428678948826322\n",
    "- ***Accuracy: 0.9431578947368422***\n",
    "- Precision: 0.9557132105117369\n",
    "- Recall: 0.956149981694667\n",
    "\n",
    "## RandomForest\n",
    "- True Positive: 59.3\n",
    "- True Negative: 32.7\n",
    "- False Positive: 1.8\n",
    "- False Negative: 1.2\n",
    "- True Positive Rate: 0.9799315131956592\n",
    "- True Negative Rate: 0.9484169874243404\n",
    "- False Positive Rate: 0.030206299811006317\n",
    "- Negative Predictive Value: 0.9664421975083741\n",
    "- False Discovery Rate: 0.029307159064101317\n",
    "- ***Accuracy: 0.968421052631579***\n",
    "- Precision: 0.9706928409358987\n",
    "- Recall: 0.9799315131956592\n",
    "\n",
    "\n",
    "Лучший результат - ***Accuracy: 0.985*** для логистической регрессии."
   ]
  },
  {
   "cell_type": "markdown",
   "metadata": {},
   "source": [
    "## Фичи на основе имликаций\n",
    "\n",
    "Для кажого тестового примера будем считать меру похожести его на положительные и на отрицательные примеры, на что больше похож - тот и класс.\n",
    "\n"
   ]
  },
  {
   "cell_type": "markdown",
   "metadata": {},
   "source": [
    "### Считаем сколько вообще встречаются фичи тестового примера в положительных и отрицательных выборках, нормируем эти значения и сравниваем\n",
    "\n",
    "- True Positive: 38.4000\n",
    "- True Negative: 23.8000\n",
    "- False Positive: 10.7000\n",
    "- False Negative: 22.1000\n",
    "- True Positive Rate: 0.6350\n",
    "- True Negative Rate: 0.6896\n",
    "- False Positive Rate: 0.1777\n",
    "- Negative Predictive Value: 0.5183\n",
    "- False Discovery Rate: 0.2176\n",
    "- ***Accuracy: 0.6547***\n",
    "- Precision: 0.7824\n",
    "- Recall: 0.6350"
   ]
  },
  {
   "cell_type": "markdown",
   "metadata": {},
   "source": [
    "### Считаем относительно сколько объектов из положительной и отрицательной выборок близки к данному тестовому. Близость определяется так - объекты близки, если их признаки пересекаются по $>k\\%$\n",
    "\n",
    "Лучший результат при $k=70$\n",
    "- True Positive: 58.5000\n",
    "- True Negative: 34.5000\n",
    "- False Positive: 0.0000\n",
    "- False Negative: 2.0000\n",
    "- True Positive Rate: 0.9673\n",
    "- True Negative Rate: 1.0000\n",
    "- False Positive Rate: 0.0000\n",
    "- Negative Predictive Value: 0.9455\n",
    "- False Discovery Rate: 0.0000\n",
    "- ***Accuracy: 0.9789***\n",
    "- Precision: 1.0000\n",
    "- Recall: 0.9673"
   ]
  },
  {
   "attachments": {
    "image.png": {
     "image/png": "[encoded data removed]"
    }
   },
   "cell_type": "markdown",
   "metadata": {},
   "source": [
    "График зависимости Accuracy(k)\n",
    "![image.png](attachment:image.png)"
   ]
  },
  {
   "cell_type": "markdown",
   "metadata": {},
   "source": [
    "## Фичи на основе генераторов"
   ]
  },
  {
   "cell_type": "markdown",
   "metadata": {},
   "source": [
    "### Мощность пересечения фичей\n",
    "\n",
    "Будем считать для каждого тестового объекта и каждого объекта положительной и отрицательной выборок мощность пересечения фичей, то есть $|g' \\cap g^{+}|$ и $|g' \\cap g^{-}|$, после чего агрегировать(мин, макс, среднее, медиана, 90квантиль) эти значения по положительной/отрицательной выборкам и сравнивать, где больше - тот и класс (1 или 0)\n",
    "\n",
    "Лучший результат при взятии среднего\n",
    "\n",
    "- True Positive: 38.4000\n",
    "- True Negative: 23.8000\n",
    "- False Positive: 10.7000\n",
    "- False Negative: 22.1000\n",
    "- True Positive Rate: 0.6350\n",
    "- True Negative Rate: 0.6896\n",
    "- False Positive Rate: 0.1777\n",
    "- Negative Predictive Value: 0.5183\n",
    "- False Discovery Rate: 0.2176\n",
    "- ***Accuracy: 0.6547***\n",
    "- Precision: 0.7824\n",
    "- Recall: 0.6350"
   ]
  },
  {
   "cell_type": "markdown",
   "metadata": {},
   "source": [
    "### Поддержка supp\n",
    "Считаем $supp_{+} = |(g' \\cap g^{+})^{+}|$ и $supp_{-} = |(g' \\cap g^{-})^{-}|$, агрегируем по своим выборкам и сравниваем\n",
    "\n",
    "Лучший результат при взятии медианы\n",
    "- True Positive: 57.7000\n",
    "- True Negative: 34.5000\n",
    "- False Positive: 0.0000\n",
    "- False Negative: 2.8000\n",
    "- True Positive Rate: 0.9533\n",
    "- True Negative Rate: 1.0000\n",
    "- False Positive Rate: 0.0000\n",
    "- Negative Predictive Value: 0.9276\n",
    "- False Discovery Rate: 0.0000\n",
    "- ***Accuracy: 0.9705***\n",
    "- Precision: 1.0000\n",
    "- Recall: 0.9533"
   ]
  },
  {
   "cell_type": "markdown",
   "metadata": {},
   "source": [
    "### Достоверности conf\n",
    "Считаем $conf_{+} = |(g' \\cap g^{+})^{-}|$ и $conf_{-} = |(g' \\cap g^{-})^{+}|$, агрегируем по своим выборкам и сравниваем\n",
    "\n",
    "Лучший результат при взятии max\n",
    "- True Positive: 45.3000\n",
    "- True Negative: 18.2000\n",
    "- False Positive: 16.3000\n",
    "- False Negative: 15.2000\n",
    "- True Positive Rate: 0.7476\n",
    "- True Negative Rate: 0.5242\n",
    "- False Positive Rate: 0.2697\n",
    "- Negative Predictive Value: 0.5481\n",
    "- False Discovery Rate: 0.2662\n",
    "- ***Accuracy: 0.6684***\n",
    "- Precision: 0.7338\n",
    "- Recall: 0.7476"
   ]
  },
  {
   "cell_type": "markdown",
   "metadata": {},
   "source": [
    "### $Aggr(conf_{+}) > thr$\n",
    "Агрегация и порог перебирались, лучший результат при агрегации медианой и пороге 0.05\n",
    "\n",
    "- True Positive: 51.5000\n",
    "- True Negative: 17.0000\n",
    "- False Positive: 17.5000\n",
    "- False Negative: 9.0000\n",
    "- True Positive Rate: 0.8513\n",
    "- True Negative Rate: 0.4940\n",
    "- False Positive Rate: 0.2913\n",
    "- Negative Predictive Value: 0.6629\n",
    "- False Discovery Rate: 0.2526\n",
    "- ***Accuracy: 0.7211***\n",
    "- Precision: 0.7474\n",
    "- Recall: 0.8513"
   ]
  },
  {
   "cell_type": "markdown",
   "metadata": {},
   "source": [
    "### Другие\n",
    "Классификаторы по $Aggr(supp_{+}) / (Aggr(supp_{-} + 1) > thr$ или $Aggr(conf_{+}) < thr \\text{ && } Aggr(conf_{-}) > thr$ работают плохо"
   ]
  },
  {
   "cell_type": "markdown",
   "metadata": {},
   "source": [
    "### Классификатор по правилу $Aggr(supp) > thr1 \\text{ && } Aggr(conf) < thr2$ \n",
    "Лучший результат при \n",
    "\n",
    "- True  Positive: 0.5168\n",
    "- True  Negative: 0.3137\n",
    "- False Positive: 0.0000\n",
    "- False Negative: 0.0000\n",
    "- Contradictory: 0.1695\n",
    "- ***Accuracy: 0.8305***"
   ]
  },
  {
   "cell_type": "markdown",
   "metadata": {},
   "source": [
    "# Описанные выше фичи + sklearn\n",
    "Будем делить обучающую выборку на 2 части, для каждого объекта из 2ой будем считать описанные выше признаки ($power_{+}, power_{-}, supp_{+}, supp_{-}, conf_{+}, conf_{-}$) со всеми функциями агрегации. На основе этих фичей для всех объектов из 2ой части учим Логистическую регрессию/Решающее дерево.\n",
    "\n",
    "## Логистическая регрессия\n",
    "- True Positive: 58.8\n",
    "- True Negative: 31.8\n",
    "- False Positive: 2.7\n",
    "- False Negative: 1.7\n",
    "- True Positive Rate: 0.9723475524123331\n",
    "- True Negative Rate: 0.9199804607157548\n",
    "- False Positive Rate: 0.044158663329736836\n",
    "- Negative Predictive Value: 0.9480790112241726\n",
    "- False Discovery Rate: 0.04273629820000788\n",
    "- ***Accuracy: 0.9536842105263158***\n",
    "- Precision: 0.9572637017999922\n",
    "- Recall: 0.9723475524123331\n",
    "\n",
    "## Решающее дерево\n",
    "- True Positive: 57.2\n",
    "- True Negative: 31.7\n",
    "- False Positive: 2.8\n",
    "- False Negative: 3.3\n",
    "- True Positive Rate: 0.9449245962334276\n",
    "- True Negative Rate: 0.919738521282639\n",
    "- False Positive Rate: 0.046895965982428164\n",
    "- Negative Predictive Value: 0.9093225821919899\n",
    "- False Discovery Rate: 0.04627841942424787\n",
    "- ***Accuracy: 0.9357894736842104***\n",
    "- Precision: 0.9537215805757523\n",
    "- Recall: 0.9449245962334276"
   ]
  },
  {
   "cell_type": "markdown",
   "metadata": {},
   "source": [
    "# Итоги\n",
    "Accuracy\n",
    "***\n",
    "- ***sklearn: 0.985***\n",
    "- ***Ближайшие: 0.9789***\n",
    "- $power = \\|g' \\cap g^{+}\\|$: 0.6547\n",
    "- $supp$: 0.9705\n",
    "- $conf$: 0.6684\n",
    "- $conf+thr$: 0.7211\n",
    "- $Aggr(supp) > thr1 \\text{ && } Aggr(conf) < thr2$: 0.8305\n",
    "- sklearn+generator\\_features(power, supp, conf): 0.954\n",
    "***"
   ]
  },
  {
   "cell_type": "code",
   "execution_count": null,
   "metadata": {},
   "outputs": [],
   "source": []
  }
 ],
 "metadata": {
  "kernelspec": {
   "display_name": "Python 3",
   "language": "python",
   "name": "python3"
  },
  "language_info": {
   "codemirror_mode": {
    "name": "ipython",
    "version": 3
   },
   "file_extension": ".py",
   "mimetype": "text/x-python",
   "name": "python",
   "nbconvert_exporter": "python",
   "pygments_lexer": "ipython3",
   "version": "3.6.4"
  }
 },
 "nbformat": 4,
 "nbformat_minor": 2
}
